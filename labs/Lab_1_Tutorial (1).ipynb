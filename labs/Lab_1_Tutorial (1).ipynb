{
  "cells": [
    {
      "cell_type": "markdown",
      "metadata": {
        "id": "k0TLKbwJVAi3"
      },
      "source": [
        "# Lab 1: Machine Learning with Python\n",
        "Joaquin Vanschoren, Pieter Gijsbers, Bilge Celik, Prabhant Singh"
      ]
    },
    {
      "cell_type": "code",
      "execution_count": null,
      "metadata": {
        "id": "9VoIl9SuVAi6"
      },
      "outputs": [],
      "source": [
        "%matplotlib inline\n",
        "import numpy as np\n",
        "import pandas as pd"
      ]
    },
    {
      "cell_type": "markdown",
      "metadata": {
        "id": "eXxXqxo_VAi7"
      },
      "source": [
        "## Overview\n",
        "* Why Python?\n",
        "* Intro to scikit-learn\n",
        "* Exercises"
      ]
    },
    {
      "cell_type": "markdown",
      "metadata": {
        "id": "Y3jhGzHhVAi8"
      },
      "source": [
        "# Why Python?\n",
        "* Many data-heavy applications are now developed in Python\n",
        "* Highly readable, less complexity, fast prototyping\n",
        "* Easy to offload number crunching to underlying C/Fortran/...\n",
        "* Easy to install and import many rich libraries\n",
        "    - numpy: efficient data structures\n",
        "    - scipy: fast numerical recipes\n",
        "    - matplotlib: high-quality graphs\n",
        "    - scikit-learn: machine learning algorithms\n",
        "    - tensorflow: neural networks\n",
        "    - ..."
      ]
    },
    {
      "cell_type": "markdown",
      "metadata": {
        "id": "apSoDv92VAi8"
      },
      "source": [
        "<img src=\"https://raw.githubusercontent.com/ML-course/master/master/notebooks/images/tut_ecosystem.jpg\" alt=\"ml\" style=\"width: 1000px;\"/>"
      ]
    },
    {
      "cell_type": "markdown",
      "metadata": {
        "id": "-qfGWPycVAi9"
      },
      "source": [
        "# Numpy, Scipy, Matplotlib\n",
        "* See the tutorials (in the course GitHub)\n",
        "* Many good tutorials online\n",
        "    - [Jake VanderPlas' book and notebooks](https://github.com/jakevdp/PythonDataScienceHandbook)\n",
        "    - [J.R. Johansson's notebooks](https://github.com/jrjohansson/scientific-python-lectures)\n",
        "    - [DataCamp](https://www.datacamp.com)\n",
        "    - ..."
      ]
    },
    {
      "cell_type": "markdown",
      "metadata": {
        "id": "cvxGip6hVAi9"
      },
      "source": [
        "# scikit-learn\n",
        "One of the most prominent Python libraries for machine learning:\n",
        "\n",
        "* Contains many state-of-the-art machine learning algorithms\n",
        "* Builds on numpy (fast), implements advanced techniques\n",
        "* Wide range of evaluation measures and techniques\n",
        "* Offers [comprehensive documentation](http://scikit-learn.org/stable/documentation) about each algorithm\n",
        "* Widely used, and a wealth of [tutorials](http://scikit-learn.org/stable/user_guide.html) and code snippets are available\n",
        "* Works well with numpy, scipy, pandas, matplotlib,..."
      ]
    },
    {
      "cell_type": "markdown",
      "metadata": {
        "id": "y5-dPyYmVAi-"
      },
      "source": [
        "## Algorithms\n",
        "See the [Reference](http://scikit-learn.org/dev/modules/classes.html)"
      ]
    },
    {
      "cell_type": "markdown",
      "metadata": {
        "id": "ltX6VwHCVAi_"
      },
      "source": [
        "__Supervised learning:__\n",
        "\n",
        "* Linear models (Ridge, Lasso, Elastic Net, ...)\n",
        "* Support Vector Machines\n",
        "* Tree-based methods (Classification/Regression Trees, Random Forests,...)\n",
        "* Nearest neighbors\n",
        "* Neural networks\n",
        "* Gaussian Processes\n",
        "* Feature selection"
      ]
    },
    {
      "cell_type": "markdown",
      "metadata": {
        "id": "4XCBkunXVAi_"
      },
      "source": [
        "__Unsupervised learning:__\n",
        "    \n",
        "* Clustering (KMeans, ...)\n",
        "* Matrix Decomposition (PCA, ...)\n",
        "* Manifold Learning (Embeddings)\n",
        "* Density estimation\n",
        "* Outlier detection"
      ]
    },
    {
      "cell_type": "markdown",
      "metadata": {
        "id": "42aEMMLwVAjA"
      },
      "source": [
        "__Model selection and evaluation:__\n",
        "\n",
        "* Cross-validation\n",
        "* Grid-search\n",
        "* Lots of metrics"
      ]
    },
    {
      "cell_type": "markdown",
      "metadata": {
        "id": "bTxniBexVAjA"
      },
      "source": [
        "## Data import\n",
        "Multiple options:\n",
        "\n",
        "* A few toy datasets are included in `sklearn.datasets`\n",
        "* Import [1000s of datasets](http://www.openml.org) via `sklearn.datasets.fetch_openml`\n",
        "* You can import data files (CSV) with `pandas` or `numpy`"
      ]
    },
    {
      "cell_type": "markdown",
      "source": [
        "# speed dating\n",
        "\n",
        "This data was gathered from participants in experimental speed dating events from 2002-2004. During the events, the attendees would have a four-minute \"first date\" with every other participant of the opposite sex. At the end of their four minutes, participants were asked if they would like to see their date again. They were also asked to rate their date on six attributes: Attractiveness, Sincerity, Intelligence, Fun, Ambition, and Shared Interests. The dataset also includes questionnaire data gathered from participants at different points in the process. These fields include: demographics, dating habits, self-perception across key attributes, beliefs on what others find valuable in a mate, and lifestyle information."
      ],
      "metadata": {
        "id": "CwVtjJgAYDIH"
      }
    },
    {
      "cell_type": "code",
      "source": [
        "# Télécharger le fichier ZIP dans le répertoire de Colab\n",
        "!curl -L -o /content/speed-dating.zip https://www.kaggle.com/api/v1/datasets/download/ulrikthygepedersen/speed-dating\n",
        "\n",
        "# Vérifier le fichier téléchargé\n",
        "!ls /content\n",
        "\n"
      ],
      "metadata": {
        "id": "mw996VxsVRbQ"
      },
      "execution_count": null,
      "outputs": []
    },
    {
      "cell_type": "code",
      "source": [
        "import zipfile\n",
        "\n",
        "# Chemin du fichier ZIP\n",
        "zip_path = \"/content/speed-dating.zip\"\n",
        "extract_path = \"/content/speed-dating\"\n",
        "\n",
        "# Décompression\n",
        "with zipfile.ZipFile(zip_path, 'r') as zip_ref:\n",
        "    zip_ref.extractall(extract_path)\n",
        "\n",
        "# Vérification des fichiers extraits\n",
        "!ls /content/speed-dating\n"
      ],
      "metadata": {
        "id": "D1nEimjFXx3q"
      },
      "execution_count": null,
      "outputs": []
    },
    {
      "cell_type": "code",
      "execution_count": null,
      "metadata": {
        "id": "Okdwq6mNVAjA"
      },
      "outputs": [],
      "source": [
        "from sklearn.datasets import load_iris, fetch_openml\n",
        "iris_data = load_iris()\n"
      ]
    },
    {
      "cell_type": "code",
      "source": [],
      "metadata": {
        "id": "f8ChkwnDiDqj"
      },
      "execution_count": null,
      "outputs": []
    },
    {
      "cell_type": "markdown",
      "metadata": {
        "id": "MyM03W7yVAjB"
      },
      "source": [
        "These will return a `Bunch` object (similar to a `dict`)"
      ]
    },
    {
      "cell_type": "code",
      "execution_count": null,
      "metadata": {
        "id": "N7KzXqx5VAjB"
      },
      "outputs": [],
      "source": [
        "print(\"Keys of iris_dataset: {}\".format(iris_data.keys()))\n",
        "print(iris_data['DESCR'][:193] + \"\\n...\")"
      ]
    },
    {
      "cell_type": "markdown",
      "metadata": {
        "id": "6_2XGGS4VAjB"
      },
      "source": [
        "* Targets (classes) and features are lists of strings\n",
        "* Data and target values are always numeric (ndarrays)"
      ]
    },
    {
      "cell_type": "code",
      "execution_count": null,
      "metadata": {
        "id": "YHcrWSIyVAjC"
      },
      "outputs": [],
      "source": [
        "print(\"Targets: {}\".format(iris_data['target_names']))\n",
        "print(\"Features: {}\".format(iris_data['feature_names']))\n",
        "print(\"Shape of data: {}\".format(iris_data['data'].shape))\n",
        "print(\"First 5 rows:\\n{}\".format(iris_data['data'][:5]))\n",
        "print(\"Targets:\\n{}\".format(iris_data['target']))"
      ]
    },
    {
      "cell_type": "code",
      "source": [
        "# Créer un DataFrame avec les données et les noms des colonnes\n",
        "iris_df = pd.DataFrame(data=iris_data['data'], columns=iris_data['feature_names'])\n",
        "\n",
        "# Ajouter la colonne des cibles (target)\n",
        "iris_df['target'] = iris_data['target']\n",
        "iris_df.head();"
      ],
      "metadata": {
        "id": "V3sZ8vsNdnQX"
      },
      "execution_count": null,
      "outputs": []
    },
    {
      "cell_type": "markdown",
      "metadata": {
        "id": "RqsuvMDrVAjC"
      },
      "source": [
        "## Building models\n",
        "All scikitlearn _estimators_ follow the same interface"
      ]
    },
    {
      "cell_type": "markdown",
      "metadata": {
        "id": "8M4EfcwYVAjC"
      },
      "source": [
        "```python\n",
        "class SupervisedEstimator(...):\n",
        "    def __init__(self, hyperparam, ...):\n",
        "\n",
        "    def fit(self, X, y):   # Fit/model the training data\n",
        "        ...                # given data X and targets y\n",
        "        return self\n",
        "     \n",
        "    def predict(self, X):  # Make predictions\n",
        "        ...                # on unseen data X  \n",
        "        return y_pred\n",
        "    \n",
        "    def score(self, X, y): # Predict and compare to true\n",
        "        ...                # labels y                \n",
        "        return score\n",
        "```"
      ]
    },
    {
      "cell_type": "markdown",
      "metadata": {
        "id": "102A24YeVAjC"
      },
      "source": [
        "### Training and testing data\n",
        "To evaluate our classifier, we need to test it on unseen data.  \n",
        "`train_test_split`: splits data randomly in 75% training and 25% test data."
      ]
    },
    {
      "cell_type": "code",
      "execution_count": null,
      "metadata": {
        "hide_input": false,
        "id": "nHDIA4I_VAjD"
      },
      "outputs": [],
      "source": [
        "from sklearn.model_selection import train_test_split\n",
        "X_train, X_test, y_train, y_test = train_test_split(\n",
        "    iris_data['data'], iris_data['target'],\n",
        "    random_state=0)\n",
        "print(\"X_train shape: {}\".format(X_train.shape))\n",
        "print(\"y_train shape: {}\".format(y_train.shape))\n",
        "print(\"X_test shape: {}\".format(X_test.shape))\n",
        "print(\"y_test shape: {}\".format(y_test.shape))"
      ]
    },
    {
      "cell_type": "markdown",
      "metadata": {
        "id": "K3in7TwLVAjD"
      },
      "source": [
        "We can also choose other ways to split the data. For instance, the following will create a training set of 10% of the data and a test set of 5% of the data. This is useful when dealing with very large datasets. `stratify` defines the target feature to stratify the data (ensure that the class distributions are kept the same)."
      ]
    },
    {
      "cell_type": "code",
      "execution_count": null,
      "metadata": {
        "id": "rD9By7IsVAjD"
      },
      "outputs": [],
      "source": [
        "X, y = iris_data['data'], iris_data['target']\n",
        "Xs_train, Xs_test, ys_train, ys_test = train_test_split(X,y, stratify=y, train_size=0.1, test_size=0.05)\n",
        "print(\"Xs_train shape: {}\".format(Xs_train.shape))\n",
        "print(\"Xs_test shape: {}\".format(Xs_test.shape))"
      ]
    },
    {
      "cell_type": "code",
      "source": [
        "z= 1\n",
        "t= 2"
      ],
      "metadata": {
        "id": "Y5Btn5W9P9IC"
      },
      "execution_count": null,
      "outputs": []
    },
    {
      "cell_type": "code",
      "source": [
        "z,t= 1,2\n",
        "L=[1,2,3,4,5]\n",
        "a,*b,c=L\n",
        "print(a,b,c)"
      ],
      "metadata": {
        "id": "cBqY23TEQDfW"
      },
      "execution_count": null,
      "outputs": []
    },
    {
      "cell_type": "markdown",
      "metadata": {
        "id": "Oo3lfedHVAjE"
      },
      "source": [
        "### Looking at your data (with pandas)"
      ]
    },
    {
      "cell_type": "code",
      "execution_count": null,
      "metadata": {
        "id": "7rYTNSoLVAjE"
      },
      "outputs": [],
      "source": [
        "from pandas.plotting import scatter_matrix\n",
        "\n",
        "# Build a DataFrame with training examples and feature names\n",
        "iris_df = pd.DataFrame(X_train,\n",
        "                       columns=iris_data.feature_names)\n",
        "\n",
        "# scatter matrix from the dataframe, color by class\n",
        "sm = scatter_matrix(iris_df, c=y_train, figsize=(8, 8),\n",
        "                  marker='o', hist_kwds={'bins': 20}, s=60,\n",
        "                  alpha=.8)"
      ]
    },
    {
      "cell_type": "markdown",
      "metadata": {
        "id": "NpyOBIvLVAjE"
      },
      "source": [
        "### Fitting a model"
      ]
    },
    {
      "cell_type": "code",
      "source": [
        "\n",
        "iris_data.feature_names\n"
      ],
      "metadata": {
        "id": "8hwg5l_MkvQi"
      },
      "execution_count": null,
      "outputs": []
    },
    {
      "cell_type": "markdown",
      "metadata": {
        "id": "qlBYRlYAVAjE"
      },
      "source": [
        "The first model we'll build is a k-Nearest Neighbor classifier.  \n",
        "kNN is included in `sklearn.neighbors`, so let's build our first model"
      ]
    },
    {
      "cell_type": "code",
      "execution_count": null,
      "metadata": {
        "hide_input": false,
        "id": "ThLuI7wlVAjE"
      },
      "outputs": [],
      "source": [
        "from sklearn.neighbors import KNeighborsClassifier\n",
        "knn = KNeighborsClassifier(n_neighbors=1)\n",
        "knn.fit(X_train, y_train)"
      ]
    },
    {
      "cell_type": "markdown",
      "metadata": {
        "id": "724fBNa_VAjF"
      },
      "source": [
        "### Making predictions\n",
        "Let's create a new example and ask the kNN model to classify it"
      ]
    },
    {
      "cell_type": "code",
      "execution_count": null,
      "metadata": {
        "hide_input": false,
        "id": "gRmxAehTVAjF"
      },
      "outputs": [],
      "source": [
        "X_new = np.array([[5, 2.9, 1, 0.2]])\n",
        "prediction = knn.predict(X_new)\n",
        "print(\"Prediction: {}\".format(prediction))\n",
        "print(\"Predicted target name: {}\".format(\n",
        "       iris_data['target_names'][prediction]))"
      ]
    },
    {
      "cell_type": "markdown",
      "metadata": {
        "id": "Xzkni0WUVAjF"
      },
      "source": [
        "### Evaluating the model\n",
        "Feeding all test examples to the model yields all predictions"
      ]
    },
    {
      "cell_type": "code",
      "execution_count": null,
      "metadata": {
        "hide_input": true,
        "scrolled": true,
        "id": "NulZA1zUVAjF"
      },
      "outputs": [],
      "source": [
        "y_pred = knn.predict(X_test)\n",
        "print(\"Test set predictions:\\n {}\".format(y_pred))\n",
        "print(y_test)"
      ]
    },
    {
      "cell_type": "markdown",
      "metadata": {
        "id": "TDr0bQ0ZVAjG"
      },
      "source": [
        "The `score` function computes the percentage of correct predictions\n",
        "\n",
        "``` python\n",
        "knn.score(X_test, y_test)\n",
        "```"
      ]
    },
    {
      "cell_type": "code",
      "execution_count": null,
      "metadata": {
        "hide_input": true,
        "id": "QqA93fV_VAjG"
      },
      "outputs": [],
      "source": [
        "print(\"Score: {:.2f}\".format(knn.score(X_test, y_test) ))"
      ]
    },
    {
      "cell_type": "markdown",
      "metadata": {
        "id": "RqOIz0VZVAjG"
      },
      "source": [
        "Instead of a single train-test split, we can use `cross_validate` do run a cross-validation.\n",
        "It will return the test scores, as well as the fit and score times, for every fold.\n",
        "By default, scikit-learn does a 5-fold cross-validation, hence returning 5 test scores."
      ]
    },
    {
      "cell_type": "code",
      "execution_count": null,
      "metadata": {
        "id": "GSTFzHkkVAjG"
      },
      "outputs": [],
      "source": [
        "!pip install -U joblib"
      ]
    },
    {
      "cell_type": "code",
      "execution_count": null,
      "metadata": {
        "id": "m4SUR-9nVAjH"
      },
      "outputs": [],
      "source": [
        "from sklearn.model_selection import cross_validate\n",
        "xval = cross_validate(knn, X, y, return_train_score=True, n_jobs=-1)\n",
        "xval"
      ]
    },
    {
      "cell_type": "markdown",
      "metadata": {
        "id": "M2D05zHrVAjH"
      },
      "source": [
        "The mean should give a better performance estimate"
      ]
    },
    {
      "cell_type": "code",
      "execution_count": null,
      "metadata": {
        "id": "P-QuyaPIVAjH"
      },
      "outputs": [],
      "source": [
        "np.mean(xval['test_score'])"
      ]
    },
    {
      "cell_type": "markdown",
      "metadata": {
        "id": "8i7_DxNmVAjM"
      },
      "source": [
        "### Introspecting the model\n",
        "Most models allow you to retrieve the trained model parameters, usually called `coef_`"
      ]
    },
    {
      "cell_type": "code",
      "execution_count": null,
      "metadata": {
        "id": "j7W5tiROVAjN"
      },
      "outputs": [],
      "source": [
        "from sklearn.linear_model import LinearRegression\n",
        "lr = LinearRegression().fit(X_train, y_train)\n",
        "lr.coef_"
      ]
    },
    {
      "cell_type": "markdown",
      "metadata": {
        "id": "i7ogoME4VAjN"
      },
      "source": [
        "Matching these with the names of the features, we can see which features are primarily used by the model"
      ]
    },
    {
      "cell_type": "code",
      "execution_count": null,
      "metadata": {
        "id": "cThxLuymVAjN"
      },
      "outputs": [],
      "source": [
        "d = zip(iris_data.feature_names,lr.coef_)\n",
        "set(d)"
      ]
    },
    {
      "cell_type": "markdown",
      "metadata": {
        "id": "tdnLeRiVVAjN"
      },
      "source": [
        "Please see the course notebooks for more examples on how to analyse models."
      ]
    }
  ],
  "metadata": {
    "anaconda-cloud": {},
    "celltoolbar": "Slideshow",
    "kernelspec": {
      "display_name": "Python 3 (ipykernel)",
      "language": "python",
      "name": "python3"
    },
    "language_info": {
      "codemirror_mode": {
        "name": "ipython",
        "version": 3
      },
      "file_extension": ".py",
      "mimetype": "text/x-python",
      "name": "python",
      "nbconvert_exporter": "python",
      "pygments_lexer": "ipython3",
      "version": "3.10.10"
    },
    "latex_metadata": {
      "author": "Joaquin Vanschoren",
      "title": "Introduction"
    },
    "colab": {
      "provenance": []
    }
  },
  "nbformat": 4,
  "nbformat_minor": 0
}